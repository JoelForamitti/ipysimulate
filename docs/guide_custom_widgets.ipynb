{
 "cells": [
  {
   "cell_type": "markdown",
   "id": "invisible-alabama",
   "metadata": {},
   "source": [
    "# Custom widgets"
   ]
  },
  {
   "cell_type": "markdown",
   "id": "fantastic-garage",
   "metadata": {},
   "source": [
    "This guide shows how to create custom widgets with the [IPySimulate](https://ipysimulate.readthedocs.io/) package."
   ]
  },
  {
   "cell_type": "code",
   "execution_count": 1,
   "id": "patent-burlington",
   "metadata": {},
   "outputs": [],
   "source": [
    "import agentpy as ap\n",
    "import ipysimulate as ips\n",
    "import ipywidgets as widgets"
   ]
  },
  {
   "cell_type": "markdown",
   "id": "exciting-roman",
   "metadata": {},
   "source": [
    "The source code for custom widgets is written with javascript functions.  \n",
    "\n",
    "These functions can acess the widget's current view and model with `view` and `view.model`. The visible cell can be accessed with `view.el`. To learn more about widget views and models in Jupyter, visit [ipywidgets](https://ipywidgets.readthedocs.io/en/stable/examples/Widget%20Low%20Level.html).\n",
    "\n",
    "Functions can further acess the D3js library with `d3` that provides very useful tools for data visualization. To learn more about D3js, go to https://d3js.org/. Finally, configuration data can be accessed with `view.model.config`.\n",
    "\n",
    "To start, we define a dictionary in which the javascript functions will be placed as strings."
   ]
  },
  {
   "cell_type": "code",
   "execution_count": 2,
   "id": "defined-football",
   "metadata": {},
   "outputs": [],
   "source": [
    "source = {}"
   ]
  },
  {
   "cell_type": "markdown",
   "id": "changing-badge",
   "metadata": {},
   "source": [
    "The first function is `setup`, which is called only once when the widget is first rendered.\n",
    "The code is adapted from Mike Bostock's example for [Modifying a Force Layout](https://bl.ocks.org/mbostock/1095795) and displays a set of loose nodes within a force layout."
   ]
  },
  {
   "cell_type": "code",
   "execution_count": 3,
   "id": "welsh-proxy",
   "metadata": {},
   "outputs": [],
   "source": [
    "source['setup'] = \"\"\"\n",
    "// Append a div container to outline the chart\n",
    "\n",
    "var container = document.createElement(\"div\");\n",
    "container.className = 'ipysimulate-chart'\n",
    "view.el.appendChild(container);\n",
    "\n",
    "// Create a svg canvas\n",
    "\n",
    "var svg = d3.select(container).append(\"svg\")\n",
    "    .attr(\"style\", \"width: 100%; height: 100%\")\n",
    "    .attr(\"viewBox\", [0, 0, 100, 100])\n",
    "    .append(\"g\");\n",
    "var g = svg.append(\"g\")\n",
    "    .attr(\"transform\", \"translate(\" + 50 + \",\" + 50 + \")\");\n",
    "var node = g.append(\"g\")\n",
    "    .attr(\"stroke\", \"#fff\")\n",
    "    .attr(\"stroke-width\", 1.5)\n",
    "    .selectAll(\".node\");\n",
    "\n",
    "// Prepare simulation\n",
    "\n",
    "view.nodes = [];\n",
    "\n",
    "var simulation = d3.forceSimulation(view.nodes)\n",
    "    .force(\"charge\", d3.forceManyBody().strength(-5))\n",
    "    .force(\"x\", d3.forceX())\n",
    "    .force(\"y\", d3.forceY())\n",
    "    .alphaTarget(1)\n",
    "    .on(\"tick\", ticked);\n",
    "    \n",
    "function ticked() {\n",
    "  node.attr(\"cx\", function(d) { return d.x; })\n",
    "      .attr(\"cy\", function(d) { return d.y; })\n",
    "}\n",
    "\n",
    "// Function to restart the simulation with new nodes\n",
    "\n",
    "color = d3.scaleOrdinal(d3.schemeSet3);\n",
    "view.draw_nodes = function() {\n",
    "  \n",
    "  let nodes = view.nodes\n",
    "  \n",
    "  // Apply the general update pattern to the nodes.\n",
    "  node = node.data(nodes, function(d) {return d.id;});\n",
    "  node.exit().remove();\n",
    "  node = node.enter().append(\"circle\")\n",
    "      // Decide color based on current time-step t\n",
    "      .attr(\"fill\", function(d) { return color(d.t); })  \n",
    "      .attr(\"r\", view.model.config['radius'])\n",
    "      .merge(node);\n",
    "\n",
    "  // Update and restart the simulation.\n",
    "  simulation.nodes(nodes);\n",
    "  simulation.alpha(1).restart();\n",
    "}\n",
    "\n",
    "view.draw_nodes();\n",
    "\"\"\""
   ]
  },
  {
   "cell_type": "markdown",
   "id": "sensitive-canadian",
   "metadata": {},
   "source": [
    "We now add a second function `update` that is called every time new simulation data is synched. The passed data can be accessed as `data`. We will late define the data object to contain an entry `t` with the current time-step."
   ]
  },
  {
   "cell_type": "code",
   "execution_count": 4,
   "id": "logical-vermont",
   "metadata": {},
   "outputs": [],
   "source": [
    "source['update'] = \"\"\"\n",
    "// Create node out of new data\n",
    "view.nodes.push(data)\n",
    "view.draw_nodes()\n",
    "\"\"\""
   ]
  },
  {
   "cell_type": "markdown",
   "id": "local-electricity",
   "metadata": {},
   "source": [
    "Finally, the `reset` function can be used to clear stored data when the simulation is reset."
   ]
  },
  {
   "cell_type": "code",
   "execution_count": 5,
   "id": "maritime-benefit",
   "metadata": {},
   "outputs": [],
   "source": [
    "source['reset'] = \"\"\"\n",
    "view.nodes = [];\n",
    "\"\"\""
   ]
  },
  {
   "cell_type": "markdown",
   "id": "collectible-treasurer",
   "metadata": {},
   "source": [
    "We now prepare an empty model using the [AgentPy](https://agentpy.readthedocs.io/) package. Without any custom modifications, this model will simply increase it's time-step `t` at every simulation step."
   ]
  },
  {
   "cell_type": "code",
   "execution_count": 6,
   "id": "synthetic-granny",
   "metadata": {},
   "outputs": [],
   "source": [
    "model = ap.Model()"
   ]
  },
  {
   "cell_type": "markdown",
   "id": "aging-nurse",
   "metadata": {},
   "source": [
    "Next, we set up the IPySimulate `Control` widget with a slider for the frame-rate (fps) and a display of the current time-step `t`. "
   ]
  },
  {
   "cell_type": "code",
   "execution_count": 7,
   "id": "egyptian-nightmare",
   "metadata": {},
   "outputs": [],
   "source": [
    "parameters = {'fps': ap.IntRange(1, 10, 5),}\n",
    "control = ips.Control(model, parameters, variables=('t'))"
   ]
  },
  {
   "cell_type": "markdown",
   "id": "chinese-lobby",
   "metadata": {},
   "source": [
    "Now we can finally set up our custom widget, using `CustomWidget` to which we pass our control widget and source code for visualization. We further define a data collector that will retrieve the time-step `t` from the model."
   ]
  },
  {
   "cell_type": "code",
   "execution_count": 8,
   "id": "dramatic-prisoner",
   "metadata": {},
   "outputs": [],
   "source": [
    "my_custom_widget = ips.CustomWidget(\n",
    "    control, \n",
    "    source=source,\n",
    "    config={'radius': 3},\n",
    "    data={'t': 't'}\n",
    ")"
   ]
  },
  {
   "cell_type": "markdown",
   "id": "inner-output",
   "metadata": {},
   "source": [
    "To display both our control and custom widget, we can use the classic `AppLayout` widget. To learn more about widget layouts, visit the ipywidgets [documentation](https://ipywidgets.readthedocs.io/en/stable/examples/Layout%20Templates.html)."
   ]
  },
  {
   "cell_type": "code",
   "execution_count": 9,
   "id": "naval-alfred",
   "metadata": {},
   "outputs": [
    {
     "data": {
      "application/vnd.jupyter.widget-view+json": {
       "model_id": "254710430d7c4099afea5e936c8a03a8",
       "version_major": 2,
       "version_minor": 0
      },
      "text/plain": [
       "AppLayout(children=(Control(layout=Layout(grid_area='left-sidebar'), parameters={'fps': 5}), CustomWidget(conf…"
      ]
     },
     "metadata": {},
     "output_type": "display_data"
    }
   ],
   "source": [
    "widgets.AppLayout(\n",
    "    left_sidebar=control,\n",
    "    center=my_custom_widget,\n",
    "    pane_widths=['125px', 1, 1], \n",
    "    height='500px'\n",
    ")"
   ]
  },
  {
   "cell_type": "markdown",
   "id": "useful-board",
   "metadata": {},
   "source": [
    "Note that the interactive simulation will not be visible if this tutorial is viewed within the IPySimulate documentation, but must be opened as a Jupyter Notebook (link at the top). \n",
    "\n",
    "Here is a short recording of the interactive output:"
   ]
  },
  {
   "cell_type": "markdown",
   "id": "electoral-convention",
   "metadata": {},
   "source": [
    "![Recording of interactive simulation](custom_widget.gif)"
   ]
  }
 ],
 "metadata": {
  "kernelspec": {
   "display_name": "Python 3",
   "language": "python",
   "name": "python3"
  },
  "language_info": {
   "codemirror_mode": {
    "name": "ipython",
    "version": 3
   },
   "file_extension": ".py",
   "mimetype": "text/x-python",
   "name": "python",
   "nbconvert_exporter": "python",
   "pygments_lexer": "ipython3",
   "version": "3.8.5"
  }
 },
 "nbformat": 4,
 "nbformat_minor": 5
}
